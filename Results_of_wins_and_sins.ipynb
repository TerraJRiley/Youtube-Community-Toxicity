{
 "cells": [
  {
   "cell_type": "markdown",
   "metadata": {},
   "source": [
    "# Stuff to do\n",
    "Current Problem Statement: How similar and different are two channels who have nearly the same content, but one with a positive perspective and the other with a negative\n",
    "\n",
    "Original Problem Statement: Through sentimitation, can we learn which channels have the most positive and negative communities?\n",
    "#### Bonuses\n",
    " - Latient Dirilech Analysis\n",
    " - Topic system\n",
    " - Function to guess/estimate how many comments a channel has\n",
    " - Model prediction how many comments will happen over time (based on views and topic)"
   ]
  },
  {
   "cell_type": "markdown",
   "metadata": {},
   "source": [
    "## Imports"
   ]
  },
  {
   "cell_type": "code",
   "execution_count": 1,
   "metadata": {},
   "outputs": [],
   "source": [
    "import requests\n",
    "import time\n",
    "import pandas as pd\n",
    "import warnings\n",
    "import numpy as np      \n",
    "#import regex as re\n",
    "from random import sample\n",
    "import random\n",
    "import re\n",
    "import matplotlib.pyplot as plt\n",
    "import seaborn as sns\n",
    "%matplotlib inline\n",
    "\n",
    "from nltk.tokenize import RegexpTokenizer\n",
    "from nltk.stem import WordNetLemmatizer\n",
    "from nltk import word_tokenize\n",
    "from sklearn.preprocessing import StandardScaler\n",
    "from sklearn.linear_model import LinearRegression, LogisticRegression\n",
    "from sklearn.model_selection import train_test_split\n",
    "from random import seed\n",
    "\n",
    "from textblob import TextBlob\n",
    "import textstat"
   ]
  },
  {
   "cell_type": "code",
   "execution_count": 2,
   "metadata": {},
   "outputs": [],
   "source": [
    "from sklearn.feature_extraction.text import CountVectorizer, TfidfVectorizer, HashingVectorizer\n",
    "from nltk.stem import WordNetLemmatizer\n",
    "from nltk import word_tokenize\n",
    "from nltk.corpus import stopwords\n",
    "from sklearn.decomposition import LatentDirichletAllocation\n",
    "import re # Delete this if scraping in same notebook\n",
    "\n",
    "tokenizer = RegexpTokenizer(r'\\w+')\n",
    "\n",
    "def preprocess(text):\n",
    "    text = re.sub(r'[^a-zA-Z]',' ', text.lower())\n",
    "    tokens = word_tokenize(text)\n",
    "    lemmer = WordNetLemmatizer()\n",
    "    stop_words = stopwords.words(\"english\")\n",
    "    return \" \".join([lemmer.lemmatize(word) for word in tokens if len(word) > 1 and not word in stop_words])\n",
    "cvec = CountVectorizer(analyzer = \"word\",\n",
    "                       tokenizer = tokenizer.tokenize,\n",
    "                       preprocessor = preprocess,\n",
    "                       stop_words = 'english',\n",
    "                       min_df = 2)"
   ]
  },
  {
   "cell_type": "markdown",
   "metadata": {},
   "source": [
    "## Function Definitions"
   ]
  },
  {
   "cell_type": "code",
   "execution_count": 3,
   "metadata": {},
   "outputs": [],
   "source": [
    "def Sentamentize(text):\n",
    "    return TextBlob(str(text)).sentiment.polarity"
   ]
  },
  {
   "cell_type": "code",
   "execution_count": 4,
   "metadata": {},
   "outputs": [],
   "source": [
    "def correlate(df, Target_column):\n",
    "    # Initalize the things\n",
    "    columns = [a for a in df.columns]\n",
    "    the_dict = {}\n",
    "    \n",
    "    #Loop for each coumn and the target\n",
    "    for item in columns:\n",
    "        the_dict[str(item)] = df[Target_column].corr(df[item])\n",
    "    the_list = [the_dict]\n",
    "    \n",
    "    # Init df and shape it how would be best\n",
    "    corr_df = pd.DataFrame(the_list).drop(Target_column, axis = 1).T#.rename\n",
    "    corr_df.rename({0:'Correlation'}, axis = 1, inplace= True)\n",
    "    return pd.DataFrame(corr_df['Correlation'].sort_values())#.reset_index()\n",
    "    #return corr_df"
   ]
  },
  {
   "cell_type": "code",
   "execution_count": 5,
   "metadata": {},
   "outputs": [],
   "source": [
    "def LDA(input_item, num_topics = 3, num_words = 5, pre_cveced = False):\n",
    "    # Cols are the words. Rows are the topics\n",
    "    topic_lists = []\n",
    "    lda = LatentDirichletAllocation(n_components=num_topics, learning_method='online')\n",
    "    \n",
    "    if  pre_cveced == False: # For inserting a column and automatically cvecing things in function.\n",
    "        lda.fit(cvec.fit_transform(input_item))\n",
    "    elif pre_cveced == True: # For inserting a pre-cveced dataframe.\n",
    "        lda.fit(input_item)\n",
    "    else:\n",
    "        print(\"Not good pre_cveced option given.\")\n",
    "    for ix, topic in enumerate(lda.components_):\n",
    "        topic_lists += [[cvec.get_feature_names()[i] for i \n",
    "                         in lda.components_[ix].argsort()[:-num_words - 1:-1]]]\n",
    "\n",
    "    return pd.DataFrame(topic_lists, columns=[ 'word_' + str(i) for i \n",
    "                                    in range(1, num_words+1)], index=range(1, num_topics + 1)) "
   ]
  },
  {
   "cell_type": "markdown",
   "metadata": {},
   "source": [
    "## Importing and editing the data as need be"
   ]
  },
  {
   "cell_type": "code",
   "execution_count": 6,
   "metadata": {},
   "outputs": [],
   "source": [
    "wins_df = pd.read_csv('../Laboritory/data/wins_with_sins')\n",
    "sins_df = pd.read_csv('../Laboritory/data/sins_with_wins')\n",
    "wins_df['is_a_win'] = 1\n",
    "sins_df['is_a_win'] = 0"
   ]
  },
  {
   "cell_type": "code",
   "execution_count": 7,
   "metadata": {},
   "outputs": [
    {
     "name": "stdout",
     "output_type": "stream",
     "text": [
      "Number of Wins: 131004\n",
      "Number of Sins: 354643\n",
      "Sug samp of ea:  60706\n"
     ]
    }
   ],
   "source": [
    "sample_percentage = .25\n",
    "samp = round(((wins_df.shape[0] + sins_df.shape[0]) * sample_percentage)/2)\n",
    "print('Number of Wins:', wins_df.shape[0])\n",
    "print('Number of Sins:', sins_df.shape[0])\n",
    "print('Sug samp of ea: ', samp)"
   ]
  },
  {
   "cell_type": "code",
   "execution_count": 8,
   "metadata": {},
   "outputs": [
    {
     "name": "stdout",
     "output_type": "stream",
     "text": [
      "Percentage of total pop: 0.20591087765393382\n"
     ]
    }
   ],
   "source": [
    "samp = 50000\n",
    "print('Percentage of total pop:',\n",
    "    (samp/(wins_df.shape[0] + sins_df.shape[0]))*2)"
   ]
  },
  {
   "cell_type": "code",
   "execution_count": 9,
   "metadata": {},
   "outputs": [
    {
     "name": "stdout",
     "output_type": "stream",
     "text": [
      "(99973, 18944)\n"
     ]
    }
   ],
   "source": [
    "random.seed(76)\n",
    "\n",
    "\n",
    "# Creating mask which will act as the sample for the Wins\n",
    "mask = random.sample([i for i in range(wins_df.shape[0])], samp)\n",
    "w_samp = wins_df.loc[mask, ['text','is_a_win']]\n",
    "\n",
    "# Creating mask which will act as the sample for the Sins\n",
    "mask = random.sample([i for i in range(sins_df.shape[0])], samp)\n",
    "s_samp = sins_df.loc[mask, ['text','is_a_win']]\n",
    "\n",
    "# Sticking the sampled dfs together\n",
    "sampled_df = pd.concat([w_samp,s_samp])\n",
    "\n",
    "# Cleaning\n",
    "sampled_df.dropna(inplace= True)\n",
    "sampled_df.reset_index(inplace = True)\n",
    "\n",
    "# Creating the cvec df\n",
    "df = pd.DataFrame(cvec.fit_transform(sampled_df['text']).todense(),\n",
    "    columns=cvec.get_feature_names())\n",
    "\n",
    "df['is_win'] = sampled_df['is_a_win']\n",
    "\n",
    "#print(len(df['is_a_win']))\n",
    "print(df.shape)"
   ]
  },
  {
   "cell_type": "code",
   "execution_count": 10,
   "metadata": {
    "scrolled": true
   },
   "outputs": [],
   "source": [
    "correlation_df = correlate(df, 'is_win')"
   ]
  },
  {
   "cell_type": "code",
   "execution_count": 11,
   "metadata": {},
   "outputs": [],
   "source": [
    "mask = abs(correlation_df['Correlation']) > 0.01\n",
    "features = [word for word in correlation_df[mask].index]"
   ]
  },
  {
   "cell_type": "markdown",
   "metadata": {},
   "source": [
    "# EDA, Insights and Results"
   ]
  },
  {
   "cell_type": "markdown",
   "metadata": {},
   "source": [
    "### Correlations\n",
    "Starting off, lets look at which words are most and least correlated to each channel"
   ]
  },
  {
   "cell_type": "code",
   "execution_count": 18,
   "metadata": {
    "scrolled": true
   },
   "outputs": [
    {
     "name": "stdout",
     "output_type": "stream",
     "text": [
      "Words most correlated to being a CinemaSins video and away from being a CinemaWins video\n"
     ]
    },
    {
     "data": {
      "text/html": [
       "<div>\n",
       "<style scoped>\n",
       "    .dataframe tbody tr th:only-of-type {\n",
       "        vertical-align: middle;\n",
       "    }\n",
       "\n",
       "    .dataframe tbody tr th {\n",
       "        vertical-align: top;\n",
       "    }\n",
       "\n",
       "    .dataframe thead th {\n",
       "        text-align: right;\n",
       "    }\n",
       "</style>\n",
       "<table border=\"1\" class=\"dataframe\">\n",
       "  <thead>\n",
       "    <tr style=\"text-align: right;\">\n",
       "      <th></th>\n",
       "      <th>Correlation</th>\n",
       "    </tr>\n",
       "  </thead>\n",
       "  <tbody>\n",
       "    <tr>\n",
       "      <th>sin</th>\n",
       "      <td>-0.193750</td>\n",
       "    </tr>\n",
       "    <tr>\n",
       "      <th>wrong</th>\n",
       "      <td>-0.119747</td>\n",
       "    </tr>\n",
       "    <tr>\n",
       "      <th>minute</th>\n",
       "      <td>-0.061436</td>\n",
       "    </tr>\n",
       "    <tr>\n",
       "      <th>gravity</th>\n",
       "      <td>-0.058759</td>\n",
       "    </tr>\n",
       "    <tr>\n",
       "      <th>fucking</th>\n",
       "      <td>-0.053256</td>\n",
       "    </tr>\n",
       "    <tr>\n",
       "      <th>lol</th>\n",
       "      <td>-0.052602</td>\n",
       "    </tr>\n",
       "    <tr>\n",
       "      <th>shit</th>\n",
       "      <td>-0.048063</td>\n",
       "    </tr>\n",
       "    <tr>\n",
       "      <th>space</th>\n",
       "      <td>-0.047731</td>\n",
       "    </tr>\n",
       "    <tr>\n",
       "      <th>fuck</th>\n",
       "      <td>-0.046230</td>\n",
       "    </tr>\n",
       "    <tr>\n",
       "      <th>earth</th>\n",
       "      <td>-0.041294</td>\n",
       "    </tr>\n",
       "  </tbody>\n",
       "</table>\n",
       "</div>"
      ],
      "text/plain": [
       "         Correlation\n",
       "sin        -0.193750\n",
       "wrong      -0.119747\n",
       "minute     -0.061436\n",
       "gravity    -0.058759\n",
       "fucking    -0.053256\n",
       "lol        -0.052602\n",
       "shit       -0.048063\n",
       "space      -0.047731\n",
       "fuck       -0.046230\n",
       "earth      -0.041294"
      ]
     },
     "execution_count": 18,
     "metadata": {},
     "output_type": "execute_result"
    }
   ],
   "source": [
    "print(\"Words most correlated to CinemaSins videos and away from CinemaWins videos\")\n",
    "correlation_df.head(10)"
   ]
  },
  {
   "cell_type": "code",
   "execution_count": 19,
   "metadata": {
    "scrolled": true
   },
   "outputs": [
    {
     "name": "stdout",
     "output_type": "stream",
     "text": [
      "Words most correlated to being a CinemaWins video and away from being a CinemaSins video\n"
     ]
    },
    {
     "data": {
      "text/html": [
       "<div>\n",
       "<style scoped>\n",
       "    .dataframe tbody tr th:only-of-type {\n",
       "        vertical-align: middle;\n",
       "    }\n",
       "\n",
       "    .dataframe tbody tr th {\n",
       "        vertical-align: top;\n",
       "    }\n",
       "\n",
       "    .dataframe thead th {\n",
       "        text-align: right;\n",
       "    }\n",
       "</style>\n",
       "<table border=\"1\" class=\"dataframe\">\n",
       "  <thead>\n",
       "    <tr style=\"text-align: right;\">\n",
       "      <th></th>\n",
       "      <th>Correlation</th>\n",
       "    </tr>\n",
       "  </thead>\n",
       "  <tbody>\n",
       "    <tr>\n",
       "      <th>bernthal</th>\n",
       "      <td>0.298802</td>\n",
       "    </tr>\n",
       "    <tr>\n",
       "      <th>jon</th>\n",
       "      <td>0.298676</td>\n",
       "    </tr>\n",
       "    <tr>\n",
       "      <th>win</th>\n",
       "      <td>0.141462</td>\n",
       "    </tr>\n",
       "    <tr>\n",
       "      <th>great</th>\n",
       "      <td>0.136825</td>\n",
       "    </tr>\n",
       "    <tr>\n",
       "      <th>cinemawins</th>\n",
       "      <td>0.083272</td>\n",
       "    </tr>\n",
       "    <tr>\n",
       "      <th>love</th>\n",
       "      <td>0.078522</td>\n",
       "    </tr>\n",
       "    <tr>\n",
       "      <th>film</th>\n",
       "      <td>0.069680</td>\n",
       "    </tr>\n",
       "    <tr>\n",
       "      <th>favorite</th>\n",
       "      <td>0.055620</td>\n",
       "    </tr>\n",
       "    <tr>\n",
       "      <th>vader</th>\n",
       "      <td>0.055078</td>\n",
       "    </tr>\n",
       "    <tr>\n",
       "      <th>martha</th>\n",
       "      <td>0.054447</td>\n",
       "    </tr>\n",
       "  </tbody>\n",
       "</table>\n",
       "</div>"
      ],
      "text/plain": [
       "            Correlation\n",
       "bernthal       0.298802\n",
       "jon            0.298676\n",
       "win            0.141462\n",
       "great          0.136825\n",
       "cinemawins     0.083272\n",
       "love           0.078522\n",
       "film           0.069680\n",
       "favorite       0.055620\n",
       "vader          0.055078\n",
       "martha         0.054447"
      ]
     },
     "execution_count": 19,
     "metadata": {},
     "output_type": "execute_result"
    }
   ],
   "source": [
    "print(\"Words most correlated to CinemaWins videos & away from CinemaSins videos\")\n",
    "correlation_df.tail(10)[::-1]"
   ]
  },
  {
   "cell_type": "markdown",
   "metadata": {},
   "source": [
    "### LDA of the channels"
   ]
  },
  {
   "cell_type": "markdown",
   "metadata": {},
   "source": [
    "The following are some Latent Derelich Analysis of both channels.  This can give us a sense of which words are related most often in the comments.  As such they can give us an idea of the conversations taking place.\n",
    "\n",
    "Each row is a topic and each column is a word in the topic from most relevant to said topic to less relevant."
   ]
  },
  {
   "cell_type": "code",
   "execution_count": 14,
   "metadata": {},
   "outputs": [
    {
     "data": {
      "text/html": [
       "<div>\n",
       "<style scoped>\n",
       "    .dataframe tbody tr th:only-of-type {\n",
       "        vertical-align: middle;\n",
       "    }\n",
       "\n",
       "    .dataframe tbody tr th {\n",
       "        vertical-align: top;\n",
       "    }\n",
       "\n",
       "    .dataframe thead th {\n",
       "        text-align: right;\n",
       "    }\n",
       "</style>\n",
       "<table border=\"1\" class=\"dataframe\">\n",
       "  <thead>\n",
       "    <tr style=\"text-align: right;\">\n",
       "      <th></th>\n",
       "      <th>word_1</th>\n",
       "      <th>word_2</th>\n",
       "      <th>word_3</th>\n",
       "      <th>word_4</th>\n",
       "      <th>word_5</th>\n",
       "      <th>word_6</th>\n",
       "      <th>word_7</th>\n",
       "      <th>word_8</th>\n",
       "    </tr>\n",
       "  </thead>\n",
       "  <tbody>\n",
       "    <tr>\n",
       "      <th>1</th>\n",
       "      <td>movie</td>\n",
       "      <td>great</td>\n",
       "      <td>film</td>\n",
       "      <td>best</td>\n",
       "      <td>love</td>\n",
       "      <td>star</td>\n",
       "      <td>really</td>\n",
       "      <td>loved</td>\n",
       "    </tr>\n",
       "    <tr>\n",
       "      <th>2</th>\n",
       "      <td>like</td>\n",
       "      <td>say</td>\n",
       "      <td>man</td>\n",
       "      <td>people</td>\n",
       "      <td>scene</td>\n",
       "      <td>think</td>\n",
       "      <td>war</td>\n",
       "      <td>got</td>\n",
       "    </tr>\n",
       "    <tr>\n",
       "      <th>3</th>\n",
       "      <td>jon</td>\n",
       "      <td>bernthal</td>\n",
       "      <td>reference</td>\n",
       "      <td>na</td>\n",
       "      <td>gon</td>\n",
       "      <td>music</td>\n",
       "      <td>rey</td>\n",
       "      <td>fuck</td>\n",
       "    </tr>\n",
       "    <tr>\n",
       "      <th>4</th>\n",
       "      <td>movie</td>\n",
       "      <td>like</td>\n",
       "      <td>video</td>\n",
       "      <td>win</td>\n",
       "      <td>love</td>\n",
       "      <td>good</td>\n",
       "      <td>really</td>\n",
       "      <td>character</td>\n",
       "    </tr>\n",
       "  </tbody>\n",
       "</table>\n",
       "</div>"
      ],
      "text/plain": [
       "  word_1    word_2     word_3  word_4 word_5 word_6  word_7     word_8\n",
       "1  movie     great       film    best   love   star  really      loved\n",
       "2   like       say        man  people  scene  think     war        got\n",
       "3    jon  bernthal  reference      na    gon  music     rey       fuck\n",
       "4  movie      like      video     win   love   good  really  character"
      ]
     },
     "execution_count": 14,
     "metadata": {},
     "output_type": "execute_result"
    }
   ],
   "source": [
    "LDA(w_samp['text'].dropna(), num_topics = 4, num_words = 8)"
   ]
  },
  {
   "cell_type": "code",
   "execution_count": 15,
   "metadata": {},
   "outputs": [
    {
     "data": {
      "text/html": [
       "<div>\n",
       "<style scoped>\n",
       "    .dataframe tbody tr th:only-of-type {\n",
       "        vertical-align: middle;\n",
       "    }\n",
       "\n",
       "    .dataframe tbody tr th {\n",
       "        vertical-align: top;\n",
       "    }\n",
       "\n",
       "    .dataframe thead th {\n",
       "        text-align: right;\n",
       "    }\n",
       "</style>\n",
       "<table border=\"1\" class=\"dataframe\">\n",
       "  <thead>\n",
       "    <tr style=\"text-align: right;\">\n",
       "      <th></th>\n",
       "      <th>word_1</th>\n",
       "      <th>word_2</th>\n",
       "      <th>word_3</th>\n",
       "      <th>word_4</th>\n",
       "      <th>word_5</th>\n",
       "      <th>word_6</th>\n",
       "      <th>word_7</th>\n",
       "      <th>word_8</th>\n",
       "    </tr>\n",
       "  </thead>\n",
       "  <tbody>\n",
       "    <tr>\n",
       "      <th>1</th>\n",
       "      <td>wrong</td>\n",
       "      <td>said</td>\n",
       "      <td>going</td>\n",
       "      <td>deadpool</td>\n",
       "      <td>got</td>\n",
       "      <td>gravity</td>\n",
       "      <td>space</td>\n",
       "      <td>say</td>\n",
       "    </tr>\n",
       "    <tr>\n",
       "      <th>2</th>\n",
       "      <td>shit</td>\n",
       "      <td>mean</td>\n",
       "      <td>sin</td>\n",
       "      <td>scene</td>\n",
       "      <td>fuck</td>\n",
       "      <td>end</td>\n",
       "      <td>god</td>\n",
       "      <td>wait</td>\n",
       "    </tr>\n",
       "    <tr>\n",
       "      <th>3</th>\n",
       "      <td>movie</td>\n",
       "      <td>sin</td>\n",
       "      <td>like</td>\n",
       "      <td>video</td>\n",
       "      <td>make</td>\n",
       "      <td>man</td>\n",
       "      <td>really</td>\n",
       "      <td>good</td>\n",
       "    </tr>\n",
       "    <tr>\n",
       "      <th>4</th>\n",
       "      <td>sin</td>\n",
       "      <td>minute</td>\n",
       "      <td>batman</td>\n",
       "      <td>game</td>\n",
       "      <td>le</td>\n",
       "      <td>wiggle</td>\n",
       "      <td>know</td>\n",
       "      <td>na</td>\n",
       "    </tr>\n",
       "  </tbody>\n",
       "</table>\n",
       "</div>"
      ],
      "text/plain": [
       "  word_1  word_2  word_3    word_4 word_5   word_6  word_7 word_8\n",
       "1  wrong    said   going  deadpool    got  gravity   space    say\n",
       "2   shit    mean     sin     scene   fuck      end     god   wait\n",
       "3  movie     sin    like     video   make      man  really   good\n",
       "4    sin  minute  batman      game     le   wiggle    know     na"
      ]
     },
     "execution_count": 15,
     "metadata": {},
     "output_type": "execute_result"
    }
   ],
   "source": [
    "LDA(s_samp['text'].dropna(), num_topics = 4, num_words = 8)"
   ]
  },
  {
   "cell_type": "markdown",
   "metadata": {},
   "source": [
    "### The Sentiment numbers"
   ]
  },
  {
   "cell_type": "code",
   "execution_count": 16,
   "metadata": {},
   "outputs": [
    {
     "name": "stdout",
     "output_type": "stream",
     "text": [
      "Average Sentiment of Wins: 0.15\n",
      "Average Sentiment of Sins: 0.04\n"
     ]
    }
   ],
   "source": [
    "wins_df['Sentiment'] = wins_df['text'].map(lambda x: Sentamentize(x))\n",
    "sins_df['Sentiment'] = sins_df['text'].map(lambda x: Sentamentize(x))\n",
    "\n",
    "print('Average Sentiment of Wins:',round(wins_df['Sentiment'].sum()/len(wins_df['Sentiment']), 2))\n",
    "print('Average Sentiment of Sins:',round(sins_df['Sentiment'].sum()/len(sins_df['Sentiment']), 2))"
   ]
  },
  {
   "cell_type": "markdown",
   "metadata": {},
   "source": [
    "Cool.  Based on these numbers we can tell that there is a difference between the sentiment of sins and wins, but it can be difficult to understand exactly what those two numbers mean.  Lets see some examples of comments which have those exact numbers."
   ]
  },
  {
   "cell_type": "code",
   "execution_count": 49,
   "metadata": {},
   "outputs": [
    {
     "name": "stdout",
     "output_type": "stream",
     "text": [
      "WINS WITH SENTIMENT == 0.15\n",
      "\n",
      "Well, the sequel is said to be about the duo traversing the internet to get a part to repair a game, with the trailer making it looks like the movie is going to show that Ralph is an old guy, not really understanding the internet.\n",
      "Let's see if it's gonna be another sweet win or exploding a bunny in front of a child is going to wreck the scores\n",
      "-----------------------------------------\n",
      "Politely requesting\n",
      "- Shaun of the dead\n",
      "- Worlds end\n",
      "- Baby driver\n",
      "You do love Edgar Wright, Wright?\n",
      "-----------------------------------------\n",
      "I love how Disney handles the Sonic scene, where he blinks when he loses his Rings. This was a great video game movie.\n",
      "-----------------------------------------\n",
      "If you’re not crazy about musicals, I got a challenge for you; The Nightmare Before Christmas. I’m not a musical lover either, but that movie is one of my all time favorites.\n",
      "-----------------------------------------\n",
      "Patrick Stewart was 75-76 when they made this movie. It's really strange that they had to use \"old man\" make up on him. God damn that man looks fantastic\n",
      "-----------------------------------------\n",
      "\n",
      "\n",
      "WINS WITH SENTIMENT == 0.04\n",
      "\n",
      "i am mexican and coco was a movie taht didnt fail to show real mexican cultre and el dia de los muertos is a real thing just that candles are more used than those orange petals\n",
      "-----------------------------------------\n",
      "First time I saw The Maze Runner, I didn't even realize it was Dylan O'Brien playing Thomas. After realizing, I could never think of him the same way again. Now I always see a bit of Stiles in every scene he is in haha. Guess watching teen wolf twice has messed with my brain :s\n",
      "-----------------------------------------\n",
      "I think Logan was the only movie that actually got me near tears as an adult. Never cried to a movie as a kid, the closest being Iron Giant, but hey.\n",
      "-----------------------------------------\n",
      "Actually, Joker's reaction to the bombs was scripted... but there is some truth to part of this scene being unscripted. In the deleted scenes there is a longer shot of the bus pulling out of the parking lot, and Joker just sits there motionless bored out of his mind and not looking at the damage he just caused because he doesn't give two sh*ts about the destruction, just the chaos it will cause. In the script Joker's supposed to be laughing and gleefully staring at the explosions, but Ledger just decided to be motionless and silent, really showing that the over the top clown act is just that... an act.\n",
      "-----------------------------------------\n",
      "Who else wants \"British actor acting as American boy trying to do an English accent\"?\n",
      "-----------------------------------------\n"
     ]
    }
   ],
   "source": [
    "random.seed(76)\n",
    "mask = wins_df['Sentiment'] == 0.15\n",
    "ex_samples = random.sample([x for x in wins_df[mask].index], 5)\n",
    "print('WINS WITH SENTIMENT == 0.15')\n",
    "print()\n",
    "for comment in ex_samples:\n",
    "    print(wins_df.loc[comment, 'text'])\n",
    "    print('-----------------------------------------')\n",
    "\n",
    "mask = wins_df['Sentiment'] == 0.04\n",
    "ex_samples = random.sample([x for x in wins_df[mask].index], 5)\n",
    "print()\n",
    "print()\n",
    "print('WINS WITH SENTIMENT == 0.04')\n",
    "print()\n",
    "for comment in ex_samples:\n",
    "    print(wins_df.loc[comment, 'text'])\n",
    "    print('-----------------------------------------')"
   ]
  },
  {
   "cell_type": "code",
   "execution_count": 48,
   "metadata": {},
   "outputs": [
    {
     "name": "stdout",
     "output_type": "stream",
     "text": [
      "SINS WITH SENTIMENT == 0.15\n",
      "\n",
      "Why did you not sin the fact that they reused the same voice actors but the same characters... I'm pretty sure thats the same snake in Robin Hood.\n",
      "-------------------------------------------\n",
      "hes not fighting a normal man hes fighting GSP\n",
      "-------------------------------------------\n",
      "How did Baymax even end up in Tadashi's room when we first saw him at Tadashi's school o_o\n",
      "-------------------------------------------\n",
      "batman died. it was alfred imagining  bruce in a normal life.\n",
      "-------------------------------------------\n",
      "I think you should keep out your own personal tastes about the film as \"sins\", and only keep stuff which would be illogical, errors in movies and such\n",
      "-------------------------------------------\n",
      "\n",
      "\n",
      "SINS WITH SENTIMENT == 0.04\n",
      "\n",
      "Sin 1: Admiral Marcus is the only person who knows about Khan and his plan to make war with the Klingons.Yet Khan attacks Starfleet over something that happened 300 years ago that the people personally had nothing to do with it.\n",
      "\n",
      "Sin 2: We know that Khan really hates Admiral Marcus correct? Then why does he go along with Admiral Marcus' plan for a potential war with the Klingons by going to Kronos? Why not just kill Admiral Marcus in private and then wake up your crew and then unleash Hell?\n",
      "-------------------------------------------\n",
      "halkeye actually has different types of arrows like a adamantium one and he also has a pym particle one which is multiple arrows compressed to one and will multiply if hawkeye wants to make it rain tbh hes so underrated HAHAHAH\n",
      "-------------------------------------------\n",
      "Stopped watching at around the 11 min mark. These have stopped being funny. They use to remind me of MST3K and now they're just long winded and tired. A lot of the sins I did see make me think he didn't even watch the whole movie, just fast forward through it 15 mins at a time.\n",
      "-------------------------------------------\n",
      "For the 3rd sin, they could've noticed, but kept driving. They could've called the cops and everything but that'd be a whole different movie .\n",
      "For the 6th, he could've seen him falling before he reached that point.\n",
      "36, I dont think the joker had to know when all of that was gonna happen, nor did batman have to not get there in time, only that thered be enough time to save one since their on two ends of town and that if no one got there in time, theyd both die .\n",
      "But knowing batman..\n",
      "-------------------------------------------\n",
      "When he was going on that rant about the greek gods possibly being real in the DC universe, was I the only person who remembered that Chris Pine playes a character in another franchise who fought a greek god and won?\n",
      "-------------------------------------------\n"
     ]
    }
   ],
   "source": [
    "random.seed(76)\n",
    "mask = sins_df['Sentiment'] == 0.15\n",
    "ex_samples = random.sample([x for x in sins_df[mask].index], 5)\n",
    "print('SINS WITH SENTIMENT == 0.15')\n",
    "print()\n",
    "for comment in ex_samples:\n",
    "    print(sins_df.loc[comment, 'text'])\n",
    "    print('-------------------------------------------')\n",
    "\n",
    "mask = sins_df['Sentiment'] == 0.04\n",
    "\n",
    "ex_samples = random.sample([x for x in sins_df[mask].index], 5)\n",
    "print()\n",
    "print()\n",
    "print('SINS WITH SENTIMENT == 0.04')\n",
    "\n",
    "print()\n",
    "for comment in ex_samples:\n",
    "    print(sins_df.loc[comment, 'text'])\n",
    "    print('-------------------------------------------')"
   ]
  },
  {
   "cell_type": "code",
   "execution_count": 17,
   "metadata": {},
   "outputs": [
    {
     "data": {
      "image/png": "[encoded data removed]",
      "text/plain": [
       "<Figure size 720x360 with 1 Axes>"
      ]
     },
     "metadata": {
      "needs_background": "light"
     },
     "output_type": "display_data"
    }
   ],
   "source": [
    "plt.figure(figsize = (10,5))\n",
    "\n",
    "mask = sins_df['Sentiment'] != 0\n",
    "plt.hist(sins_df[mask]['Sentiment'], bins = 75, label = 'Sins');\n",
    "#plt.title('Sin Sentiment');\n",
    "\n",
    "mask = wins_df['Sentiment'] != 0\n",
    "plt.hist(wins_df[mask]['Sentiment'], bins = 75, label = 'Wins');\n",
    "plt.title('Win & Sin Sentiment');\n",
    "plt.legend();"
   ]
  },
  {
   "cell_type": "markdown",
   "metadata": {},
   "source": [
    "The above graph shows the sentiment of comments for both Wins and sins videos.  I've removed the comments that equaled a 0.00 sentiment for simplicity.  These values aren't stacked on top of each other horizontally, but instead the wins are overlayed on the z-axis.  This graph is to illustreate the hard numbers above with the simple average of sentiment for both channels."
   ]
  },
  {
   "cell_type": "markdown",
   "metadata": {},
   "source": [
    "Future Steps:\n",
    " - Need to do some research on the proper p-score/z-score/alpha to get a better idea on the H's to get a solid idea of if the Wins are truely more positive on average than the Sins.  For now, I feel as thought these show that direction enough."
   ]
  },
  {
   "cell_type": "code",
   "execution_count": null,
   "metadata": {},
   "outputs": [],
   "source": []
  }
 ],
 "metadata": {
  "kernelspec": {
   "display_name": "Python 3",
   "language": "python",
   "name": "python3"
  },
  "language_info": {
   "codemirror_mode": {
    "name": "ipython",
    "version": 3
   },
   "file_extension": ".py",
   "mimetype": "text/x-python",
   "name": "python",
   "nbconvert_exporter": "python",
   "pygments_lexer": "ipython3",
   "version": "3.7.0"
  }
 },
 "nbformat": 4,
 "nbformat_minor": 2
}
