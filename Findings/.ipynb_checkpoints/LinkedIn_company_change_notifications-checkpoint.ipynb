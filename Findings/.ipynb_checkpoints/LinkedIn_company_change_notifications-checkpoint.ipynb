{
 "cells": [
  {
   "cell_type": "markdown",
   "metadata": {},
   "source": [
    "Goal: To hit up the LinkedIn API and have it return a list of contacts that have recently changed their jobs."
   ]
  },
  {
   "cell_type": "markdown",
   "metadata": {},
   "source": [
    "# Imports and Initializations"
   ]
  },
  {
   "cell_type": "code",
   "execution_count": 1,
   "metadata": {},
   "outputs": [],
   "source": [
    "import requests\n",
    "import time\n",
    "import pandas as pd\n",
    "import warnings\n",
    "import numpy as np"
   ]
  },
  {
   "cell_type": "code",
   "execution_count": 17,
   "metadata": {},
   "outputs": [
    {
     "data": {
      "text/plain": [
       "b'{\"serviceErrorCode\":65604,\"message\":\"Empty oauth2 access token\",\"status\":401}'"
      ]
     },
     "execution_count": 17,
     "metadata": {},
     "output_type": "execute_result"
    }
   ],
   "source": [
    "# Attempt with a potentially relevent call.\n",
    "endpoint = 'https://api.linkedin.com/v2/activityFeeds?q=networkShares&count=2'\n",
    "res = requests.get(url = endpoint, params = {\n",
    "    'q' : 'networkShares',\n",
    "    'client_id' : '86jg37wd7tddgh',\n",
    "    'client_secret' : 'qH75HhMjXGvoOsUI'\n",
    "})\n",
    "\n",
    "res.content"
   ]
  },
  {
   "cell_type": "markdown",
   "metadata": {},
   "source": [
    "After a lot of research and a variety of attempts, I've ended up here."
   ]
  },
  {
   "cell_type": "code",
   "execution_count": null,
   "metadata": {},
   "outputs": [],
   "source": [
    "# This is me attempting to finally get the\n",
    "# permission I need to move forward.\n",
    "endpoint = 'https://www.linkedin.com/oauth/v2/authorization'\n",
    "res = requests.get(url = endpoint, params = {\n",
    "    'response_type' : 'code',\n",
    "    #'grant_type'    : 'client_credentials',\n",
    "    'client_id'     : # Removed here for safety\n",
    "    'client_secret' : # Removed here for safety\n",
    "    'redirect_uri'  : # Removed here for safety\n",
    "    'state'         : 'nonsensewords'\n",
    "})\n",
    "\n",
    "res.content"
   ]
  },
  {
   "cell_type": "code",
   "execution_count": null,
   "metadata": {},
   "outputs": [],
   "source": [
    "res.url # I needed to paste this url into my browser \n",
    "# and was finally then able to log into my profile \n",
    "# and give myself permission to do junk to my own profile"
   ]
  },
  {
   "cell_type": "markdown",
   "metadata": {},
   "source": [
    "Both outputs have been cleared to provide a barrier from somebody potentially stealing my information."
   ]
  },
  {
   "cell_type": "code",
   "execution_count": 35,
   "metadata": {},
   "outputs": [],
   "source": [
    "potential_code = 'AQRXHxxv5f08l3nFBNl3LVmESRrCeUR3-hvBmlWeZtGnsiA-kf_fzE7ZXspU85LxmdQWozidSOOElpSIgrFfQ8WepBG6HireRfKRVdm1s76flk4rFPkI0Wicb6IB5jEKSbq10a2hsjpEib1ywn2EeS_7DkswVa4E3_uGmYNjsAM60EycGIHx4chaMx42pA'"
   ]
  },
  {
   "cell_type": "code",
   "execution_count": 38,
   "metadata": {},
   "outputs": [],
   "source": [
    "potential_code_2 = \"https://terrajriley.github.io/?code=AQRXHxxv5f08l3nFBNl3LVmESRrCeUR3-hvBmlWeZtGnsiA-kf_fzE7ZXspU85LxmdQWozidSOOElpSIgrFfQ8WepBG6HireRfKRVdm1s76flk4rFPkI0Wicb6IB5jEKSbq10a2hsjpEib1ywn2EeS_7DkswVa4E3_uGmYNjsAM60EycGIHx4chaMx42pA&state=nonsensewords\""
   ]
  },
  {
   "cell_type": "code",
   "execution_count": 40,
   "metadata": {},
   "outputs": [],
   "source": [
    "potential_code_3 = \"AQRXHxxv5f08l3nFBNl3LVmESRrCeUR3-hvBmlWeZtGnsiA-kf_fzE7ZXspU85LxmdQWozidSOOElpSIgrFfQ8WepBG6HireRfKRVdm1s76flk4rFPkI0Wicb6IB5jEKSbq10a2hsjpEib1ywn2EeS_7DkswVa4E3_uGmYNjsAM60EycGIHx4chaMx42pA&state=nonsensewords\""
   ]
  },
  {
   "cell_type": "code",
   "execution_count": 41,
   "metadata": {},
   "outputs": [
    {
     "data": {
      "text/plain": [
       "b'{\"error\":\"access_denied\",\"error_description\":\"This application is not allowed to create application tokens\"}'"
      ]
     },
     "execution_count": 41,
     "metadata": {},
     "output_type": "execute_result"
    }
   ],
   "source": [
    "endpoint = 'https://www.linkedin.com/oauth/v2/accessToken'\n",
    "res = requests.get(url = endpoint, params = {\n",
    "    'grant_type'    : 'client_credentials',\n",
    "    'client_id'     : # Removed here for safety,\n",
    "    'client_secret' : # Removed here for safety,\n",
    "    'code'          : potential_code_3,\n",
    "    'redirect_uri'  : # Removed here for safety\n",
    "})\n",
    "\n",
    "res.content"
   ]
  },
  {
   "cell_type": "markdown",
   "metadata": {},
   "source": [
    "Coolbeans.  While this has been an interesting look into the LinkedIn API, I'm going to be putting this project on the shelf so I might return to it later, should I find another reason to look into the LinkedIn API."
   ]
  },
  {
   "cell_type": "markdown",
   "metadata": {},
   "source": [
    "Note: While I could attempt this with straightforward webscraping, I'm concerned about the difficulty of having to input username and passwords for a webscraper.  For now, I'm deciding to not go down that route."
   ]
  },
  {
   "cell_type": "code",
   "execution_count": null,
   "metadata": {},
   "outputs": [],
   "source": []
  }
 ],
 "metadata": {
  "kernelspec": {
   "display_name": "Python [conda env:dsi]",
   "language": "python",
   "name": "conda-env-dsi-py"
  },
  "language_info": {
   "codemirror_mode": {
    "name": "ipython",
    "version": 3
   },
   "file_extension": ".py",
   "mimetype": "text/x-python",
   "name": "python",
   "nbconvert_exporter": "python",
   "pygments_lexer": "ipython3",
   "version": "3.6.5"
  }
 },
 "nbformat": 4,
 "nbformat_minor": 2
}
